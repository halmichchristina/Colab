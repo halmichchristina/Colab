{
  "nbformat": 4,
  "nbformat_minor": 0,
  "metadata": {
    "colab": {
      "name": "Test_MSE.ipynb",
      "provenance": [],
      "include_colab_link": true
    },
    "kernelspec": {
      "name": "python3",
      "display_name": "Python 3"
    }
  },
  "cells": [
    {
      "cell_type": "markdown",
      "metadata": {
        "id": "view-in-github",
        "colab_type": "text"
      },
      "source": [
        "<a href=\"https://colab.research.google.com/github/halmichchristina/Colab/blob/master/Test_MSE.ipynb\" target=\"_parent\"><img src=\"https://colab.research.google.com/assets/colab-badge.svg\" alt=\"Open In Colab\"/></a>"
      ]
    },
    {
      "cell_type": "code",
      "metadata": {
        "id": "ERZm6T3keEz5",
        "colab_type": "code",
        "colab": {}
      },
      "source": [
        "import torchvision.transforms as transforms\n",
        "import torchvision\n",
        "import torch\n",
        "import torch.nn as nn\n",
        "import torch.tensor as tensor\n",
        "import torch.nn.functional as F\n",
        "import numpy as np\n",
        "import matplotlib.pyplot as plt\n",
        "import matplotlib.gridspec as gridspec\n",
        "import torch.optim as optim\n",
        "#Gradient Penalty\n",
        "import torch.autograd as autograd"
      ],
      "execution_count": 0,
      "outputs": []
    },
    {
      "cell_type": "code",
      "metadata": {
        "id": "MqWcn4W8eK6i",
        "colab_type": "code",
        "colab": {}
      },
      "source": [
        "# Mask Vector\n",
        "def sample_M(samples, n, p):\n",
        "    A = torch.from_numpy(np.random.uniform(0., 1., size = [samples, n])).double()\n",
        "    B = A > p\n",
        "    C = 1.*B  \n",
        "    return C"
      ],
      "execution_count": 0,
      "outputs": []
    },
    {
      "cell_type": "code",
      "metadata": {
        "id": "xwexcBu5eOWS",
        "colab_type": "code",
        "colab": {}
      },
      "source": [
        "def calc_MSE(calc_x,real_x,m):\n",
        "    samples, n = m.shape\n",
        "    m_index = torch.arange(samples, dtype=torch.long)\n",
        "    res= 0\n",
        "    n =0\n",
        "    for mi in m_index:  \n",
        "        print(\"# DEBUG::: mi =  \" + str(mi))\n",
        "        pos = (m[mi] == 1).nonzero()\n",
        "        print(\"# DEBUG::: pos =  \" + str(pos))\n",
        "        print(\"# DEBUG::: x_s =  \" + str(calc_x[mi,pos]))\n",
        "        print(\"# DEBUG::: x_in =  \" + str(real_x[mi,pos]))\n",
        "        print(\"# DEBUG::: step_result =  \" + str(torch.sum(calc_x[mi,pos] - real_x[mi,pos])**2))\n",
        "        res += torch.sum(calc_x[mi,pos] - real_x[mi,pos])**2\n",
        "        n += 1\n",
        "    return res/n"
      ],
      "execution_count": 0,
      "outputs": []
    },
    {
      "cell_type": "code",
      "metadata": {
        "id": "RbPdN_6LeQRu",
        "colab_type": "code",
        "colab": {
          "base_uri": "https://localhost:8080/",
          "height": 73
        },
        "outputId": "397120f0-d356-4700-ac47-a1ef6a05ae19"
      },
      "source": [
        "x_in = torch.rand(3,3)\n",
        "print(x_in)"
      ],
      "execution_count": 4,
      "outputs": [
        {
          "output_type": "stream",
          "text": [
            "tensor([[0.4287, 0.8942, 0.7226],\n",
            "        [0.1366, 0.4029, 0.1161],\n",
            "        [0.3998, 0.3937, 0.2182]])\n"
          ],
          "name": "stdout"
        }
      ]
    },
    {
      "cell_type": "code",
      "metadata": {
        "id": "g1YkpjUeeSgE",
        "colab_type": "code",
        "colab": {
          "base_uri": "https://localhost:8080/",
          "height": 73
        },
        "outputId": "d90d9f80-5643-4476-c2b5-1ed29005138f"
      },
      "source": [
        "x_s = torch.rand(3,3)\n",
        "print(x_s)"
      ],
      "execution_count": 5,
      "outputs": [
        {
          "output_type": "stream",
          "text": [
            "tensor([[0.8165, 0.0777, 0.7209],\n",
            "        [0.9697, 0.6030, 0.9335],\n",
            "        [0.8666, 0.4776, 0.1343]])\n"
          ],
          "name": "stdout"
        }
      ]
    },
    {
      "cell_type": "code",
      "metadata": {
        "id": "9eIPwiwheXeF",
        "colab_type": "code",
        "colab": {}
      },
      "source": [
        "samples, n = x_in.shape\n",
        "M = sample_M(samples,n,0.5)"
      ],
      "execution_count": 0,
      "outputs": []
    },
    {
      "cell_type": "code",
      "metadata": {
        "id": "XIOFqy3neaVl",
        "colab_type": "code",
        "colab": {
          "base_uri": "https://localhost:8080/",
          "height": 410
        },
        "outputId": "b8bbc385-ee29-4067-9c92-cbdc6f5a293a"
      },
      "source": [
        "bla = calc_MSE(x_s,x_in,M)"
      ],
      "execution_count": 7,
      "outputs": [
        {
          "output_type": "stream",
          "text": [
            "# DEBUG::: mi =  tensor(0)\n",
            "# DEBUG::: pos =  tensor([[1],\n",
            "        [2]])\n",
            "# DEBUG::: x_s =  tensor([[0.0777],\n",
            "        [0.7209]])\n",
            "# DEBUG::: x_in =  tensor([[0.8942],\n",
            "        [0.7226]])\n",
            "# DEBUG::: step_result =  tensor(0.6695)\n",
            "# DEBUG::: mi =  tensor(1)\n",
            "# DEBUG::: pos =  tensor([[0],\n",
            "        [2]])\n",
            "# DEBUG::: x_s =  tensor([[0.9697],\n",
            "        [0.9335]])\n",
            "# DEBUG::: x_in =  tensor([[0.1366],\n",
            "        [0.1161]])\n",
            "# DEBUG::: step_result =  tensor(2.7239)\n",
            "# DEBUG::: mi =  tensor(2)\n",
            "# DEBUG::: pos =  tensor([[0]])\n",
            "# DEBUG::: x_s =  tensor([[0.8666]])\n",
            "# DEBUG::: x_in =  tensor([[0.3998]])\n",
            "# DEBUG::: step_result =  tensor(0.2180)\n"
          ],
          "name": "stdout"
        }
      ]
    },
    {
      "cell_type": "code",
      "metadata": {
        "id": "2cqsq3Mwef1q",
        "colab_type": "code",
        "colab": {}
      },
      "source": [
        ""
      ],
      "execution_count": 0,
      "outputs": []
    }
  ]
}